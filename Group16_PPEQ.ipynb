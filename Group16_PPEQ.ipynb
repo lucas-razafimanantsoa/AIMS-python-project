{
 "cells": [
  {
   "cell_type": "markdown",
   "id": "b9bf5ee3",
   "metadata": {},
   "source": [
    "***\n",
    "***\n",
    "***\n",
    "# <center> <b>`Capitalize it` </b>\n",
    "## By Group $16$ : <br>\n",
    "### <center> Lucas M. RAZAFIMANANTSOA <br>Eugene BIGIRIMANA<br>Lambert Diko NIYONSHUTI <br>Makina PATRICK <br>\n",
    "\n",
    "***\n",
    "***\n",
    "***"
   ]
  },
  {
   "cell_type": "markdown",
   "id": "cb64d4aa",
   "metadata": {},
   "source": [
    "# <b>I - Demo :<b>"
   ]
  },
  {
   "cell_type": "markdown",
   "id": "7cf9270e",
   "metadata": {},
   "source": [
    "***"
   ]
  },
  {
   "cell_type": "markdown",
   "id": "81b8bfc1",
   "metadata": {},
   "source": [
    "### 1 - Capitalize the first non-space and convert all other characters to lowercase "
   ]
  },
  {
   "cell_type": "code",
   "execution_count": 13,
   "id": "21413e37",
   "metadata": {},
   "outputs": [
    {
     "name": "stdout",
     "output_type": "stream",
     "text": [
      "Hello, world\n"
     ]
    }
   ],
   "source": [
    "text = \"   hello, woRld   \"\n",
    "\n",
    "# Remove trailing spaces of the entire text\n",
    "text = text.strip() \n",
    "\n",
    "# Capitalize the first non-space character of the entire text and correct capitalization inside words\n",
    "text = text.capitalize()\n",
    "print (text)"
   ]
  },
  {
   "cell_type": "markdown",
   "id": "3957c03d",
   "metadata": {},
   "source": [
    "***"
   ]
  },
  {
   "cell_type": "markdown",
   "id": "fb2fb974",
   "metadata": {},
   "source": [
    "### 2  - Normalize multiple spaces while conserving line breaks"
   ]
  },
  {
   "cell_type": "code",
   "execution_count": 14,
   "id": "e2376c96",
   "metadata": {},
   "outputs": [
    {
     "name": "stdout",
     "output_type": "stream",
     "text": [
      "Hello world\n",
      "we are fine\n"
     ]
    }
   ],
   "source": [
    "text = \"Hello         world \\nwe    are     fine \"\n",
    "    # Remove multiple space between words but keep line changes\n",
    "text_lines = text.split(\"\\n\")\n",
    "for index, line in enumerate(text_lines):\n",
    "    line = line.split()\n",
    "    text_lines[index] = \" \".join(line)\n",
    "text = \"\\n\".join(text_lines)\n",
    "print(text)"
   ]
  },
  {
   "cell_type": "markdown",
   "id": "31d75d93",
   "metadata": {},
   "source": [
    "***"
   ]
  },
  {
   "cell_type": "markdown",
   "id": "e86f23e6",
   "metadata": {},
   "source": [
    "### 3 - Spacing around punctuations"
   ]
  },
  {
   "cell_type": "code",
   "execution_count": 15,
   "id": "6e611755",
   "metadata": {},
   "outputs": [
    {
     "name": "stdout",
     "output_type": "stream",
     "text": [
      "['H', 'e', 'l', 'l', 'o', ' ', 'e', 'v', 'e', 'r', 'y', 'o', 'n', 'e', '.', ' ', 'h', 'o', 'w', ' ', 'a', 'r', 'e', ' ', 'y', 'o', 'u', '?', ' ', 'm', 'e', ',', ' ', 'i', ' ', 'a', 'm', ' ', 'f', 'i', 'n', 'e']\n",
      "Hello everyone. how are you? me, i am fine\n"
     ]
    }
   ],
   "source": [
    "# Handle spaces before and after punctuations\n",
    "\n",
    "text = \"Hello everyone.how are you?me,i am fine\"\n",
    "punctuations = \".,;!?:\"\n",
    "characters_list = []\n",
    "i = 0\n",
    "while i < len(text):\n",
    "    char = text[i]\n",
    "\n",
    "    if char in punctuations :\n",
    "        \n",
    "        # Before punctuation\n",
    "        if characters_list[-1] == \" \": # if we got a punctuation and the character before it was a space \n",
    "            characters_list.pop()\n",
    "        characters_list.append(char)\n",
    "\n",
    "\n",
    "        # After punctuation\n",
    "        if i+1<len(text) and text[i+1]!=\" \": # if we are not at the end of the text and the next character is not a space\n",
    "            characters_list.append(\" \")\n",
    "    \n",
    "    else :\n",
    "        characters_list.append(char)\n",
    "    \n",
    "    i+=1\n",
    "print (characters_list)\n",
    "print (\"\".join(characters_list))"
   ]
  },
  {
   "cell_type": "markdown",
   "id": "5bbc5b94",
   "metadata": {},
   "source": [
    "***"
   ]
  },
  {
   "cell_type": "markdown",
   "id": "7fb84021",
   "metadata": {},
   "source": [
    "### 4 - Capitalize the first non-space character after `.` , `!` and `?`"
   ]
  },
  {
   "cell_type": "code",
   "execution_count": 16,
   "id": "6d756985",
   "metadata": {},
   "outputs": [
    {
     "name": "stdout",
     "output_type": "stream",
     "text": [
      "Hello everyone. How are you? Me, i am fine\n"
     ]
    }
   ],
   "source": [
    "for index, value in enumerate(characters_list):\n",
    "\n",
    "    # Capitalize the first non-space character after a punctuation\n",
    "    if value in \".!?\":\n",
    "        if index+2<len(characters_list) and characters_list[index+2].isalpha() :\n",
    "            characters_list[index+2] = characters_list[index+2].upper()\n",
    "\n",
    "print (\"\".join(characters_list))"
   ]
  },
  {
   "cell_type": "markdown",
   "id": "22f1dbdd",
   "metadata": {},
   "source": [
    "***"
   ]
  },
  {
   "cell_type": "markdown",
   "id": "bd4ac264",
   "metadata": {},
   "source": [
    "### 5 - Capitalize standalone `i`'s\n"
   ]
  },
  {
   "cell_type": "code",
   "execution_count": 17,
   "id": "78d5cd4c",
   "metadata": {},
   "outputs": [
    {
     "name": "stdout",
     "output_type": "stream",
     "text": [
      "Hello everyone. How are you? Me, I am fine\n"
     ]
    }
   ],
   "source": [
    "for index, value in enumerate(characters_list):\n",
    "\n",
    "        # Capitalize standalone \"I\"s\n",
    "        condition_I = (value == \"i\") and (characters_list[index+1] in \" ,\\\"'\") and (characters_list[index-1] in \" ,\\\"'\") \n",
    "        \n",
    "        if index+1<len(text) and condition_I ==True :\n",
    "            characters_list[index] = characters_list[index].upper()\n",
    "\n",
    "print(\"\".join(characters_list))"
   ]
  },
  {
   "cell_type": "markdown",
   "id": "49beb077",
   "metadata": {},
   "source": [
    "***"
   ]
  },
  {
   "cell_type": "markdown",
   "id": "9c63db21",
   "metadata": {},
   "source": [
    "### 6 - Correctly capitalize and punctuate each lines"
   ]
  },
  {
   "cell_type": "code",
   "execution_count": 18,
   "id": "9e66b612",
   "metadata": {},
   "outputs": [
    {
     "name": "stdout",
     "output_type": "stream",
     "text": [
      "Hello everyone. \n",
      "My name is Lucas.\n",
      "How are you \n"
     ]
    }
   ],
   "source": [
    "multiline = \"\"\"Hello everyone. \n",
    "my name is Lucas\n",
    "how are you \"\"\"\n",
    "line_skip_indexes = []\n",
    "characters_list = list(multiline)\n",
    "for index, value in enumerate(characters_list):\n",
    "# Capitalize first of lines\n",
    "        if index + 1 < len(multiline) and value == '\\n' :\n",
    "            characters_list[index+1]=characters_list[index+1].upper()\n",
    "            \n",
    "            # Add punctuation at the end of lines when there is not \n",
    "            last_char = characters_list[index - 1]\n",
    "            if last_char == ' ' and index - 2 >= 0:\n",
    "                last_char = characters_list[index - 2] # Because every '.' is followed by a space at this point\n",
    "\n",
    "            if last_char not in punctuations:\n",
    "                line_skip_indexes.append(index)\n",
    "\n",
    "line_skip_indexes.reverse()\n",
    "for i in line_skip_indexes:\n",
    "    characters_list.insert(i, '.')\n",
    "# end of the entire text\n",
    "multiline =''.join(characters_list)\n",
    "print(multiline)\n"
   ]
  },
  {
   "cell_type": "markdown",
   "id": "03929009",
   "metadata": {},
   "source": [
    "***"
   ]
  },
  {
   "cell_type": "markdown",
   "id": "dd7845e6",
   "metadata": {},
   "source": [
    "### 7 - Final fixes\n",
    "#### 7 . 1 - Remove trailing spaces at each line \n",
    "\n",
    "(because at this point, there is a space after every punctuation (even at line ends)) "
   ]
  },
  {
   "cell_type": "code",
   "execution_count": 19,
   "id": "a39dfccf",
   "metadata": {},
   "outputs": [
    {
     "name": "stdout",
     "output_type": "stream",
     "text": [
      "Hello everyone.\n",
      "My name is Lucas.\n",
      "How are you\n"
     ]
    }
   ],
   "source": [
    "lines = multiline.split('\\n')\n",
    "for index, value in enumerate(lines):\n",
    "    lines[index] = value.strip()\n",
    "multiline = '\\n'.join(lines)\n",
    "print (multiline)"
   ]
  },
  {
   "cell_type": "markdown",
   "id": "cc847c4c",
   "metadata": {},
   "source": [
    "***"
   ]
  },
  {
   "cell_type": "markdown",
   "id": "749aea47",
   "metadata": {},
   "source": [
    "#### 7 . 2 - Add punctuation at the very end of the text "
   ]
  },
  {
   "cell_type": "code",
   "execution_count": 20,
   "id": "328aa1f8",
   "metadata": {},
   "outputs": [
    {
     "name": "stdout",
     "output_type": "stream",
     "text": [
      "Hello everyone.\n",
      "My name is Lucas.\n",
      "How are you.\n"
     ]
    }
   ],
   "source": [
    "if multiline[-1] not in punctuations:\n",
    "    multiline = multiline + '.'\n",
    "print (multiline)"
   ]
  },
  {
   "cell_type": "markdown",
   "id": "f7324c66",
   "metadata": {},
   "source": [
    "***\n",
    "***\n",
    "***"
   ]
  },
  {
   "cell_type": "markdown",
   "id": "ab9f63b2",
   "metadata": {},
   "source": [
    "# <b>II - Combining everything </b>"
   ]
  },
  {
   "cell_type": "code",
   "execution_count": 21,
   "id": "f5d80496",
   "metadata": {},
   "outputs": [],
   "source": [
    "def capitalize_smartly (text : str)->str :\n",
    "    \"\"\"\n",
    "    Fixes capitalization, punctuation and spacing of a text \n",
    "\n",
    "    Input : \n",
    "    - text (str) : a wrongly capitalized text\n",
    "\n",
    "    Output : \n",
    "    - str : Correctly capitalized text\n",
    "    \"\"\"\n",
    "\n",
    "\n",
    "    # Remove trailing spaces of the entire text\n",
    "    text = text.strip() \n",
    "\n",
    "    # Capitalize the first non-space character of the entire text and correct capitalization inside words\n",
    "    text = text.capitalize()\n",
    "\n",
    "    # Remove multiple space between words but keep line changes\n",
    "    text_lines = text.split(\"\\n\")\n",
    "    for index, line in enumerate(text_lines):\n",
    "        line = line.split()\n",
    "        text_lines[index] = \" \".join(line)\n",
    "    text = \"\\n\".join(text_lines)\n",
    "\n",
    "    # Handle spaces before and after punctuations\n",
    "    punctuations = \".,;!?:\"\n",
    "    characters_list = []\n",
    "    i = 0\n",
    "    while i < len(text):\n",
    "        char = text[i]\n",
    "\n",
    "        if char in punctuations :\n",
    "            \n",
    "            # Before punctuation\n",
    "            if characters_list[-1] == \" \": # if we got a punctuation and the character before it was a space \n",
    "                characters_list.pop()\n",
    "            characters_list.append(char)\n",
    "\n",
    "\n",
    "            # After punctuation\n",
    "            if i+1<len(text) and text[i+1]!=\" \": # if we are not at the end of the text and the next character is not a space\n",
    "                characters_list.append(\" \")\n",
    "        \n",
    "        else :\n",
    "            characters_list.append(char)\n",
    "        \n",
    "        i+=1\n",
    "\n",
    "    line_skip_indexes = []\n",
    "\n",
    "\n",
    "    # Capitalization and punctuations\n",
    "    for index, value in enumerate(characters_list):\n",
    "\n",
    "        # Capitalize the first non-space character after a punctuation\n",
    "        if value in \".!?\":\n",
    "            if index+2<len(characters_list) and characters_list[index+2].isalpha() :\n",
    "                characters_list[index+2] = characters_list[index+2].upper()\n",
    "        \n",
    "        # Capitalize standalone \"I\"s\n",
    "        condition_I = (value == \"i\") and (characters_list[index+1] in \" ,\\\"'\") and (characters_list[index-1] in \" ,\\\"'\") \n",
    "        \n",
    "        if index+1<len(text) and condition_I ==True :\n",
    "            characters_list[index] = characters_list[index].upper()\n",
    "    \n",
    "\n",
    "        # Capitalize first of lines\n",
    "        if index + 1 < len(text) and value == '\\n' :\n",
    "            characters_list[index+1]=characters_list[index+1].upper()\n",
    "            \n",
    "            # Add punctuation at the end of lines when there is not \n",
    "            last_char = characters_list[index - 1]\n",
    "            if last_char == ' ' and index - 2 >= 0:\n",
    "                last_char = characters_list[index - 2] # Because every '.' is followed by a space at this point\n",
    "\n",
    "            if last_char not in punctuations:\n",
    "                line_skip_indexes.append(index)\n",
    "        \n",
    "    line_skip_indexes.reverse()\n",
    "    for i in line_skip_indexes:\n",
    "        characters_list.insert(i, '.')\n",
    "\n",
    "\n",
    "    \n",
    "    text = \"\".join(characters_list)\n",
    "\n",
    "    text_lines = text.split('\\n')           # Remove the spaces after punctuation at line ends\n",
    "    for index, line in enumerate(text_lines):\n",
    "        text_lines[index]= line.strip()\n",
    "    text = \"\\n\".join(text_lines)\n",
    "\n",
    "    if text[-1] not in punctuations:\n",
    "        text = text +'.'\n",
    "    \n",
    "    return text\n",
    "    "
   ]
  },
  {
   "cell_type": "markdown",
   "id": "04da49c6",
   "metadata": {},
   "source": [
    "***\n",
    "## Example :"
   ]
  },
  {
   "cell_type": "code",
   "execution_count": 22,
   "id": "8d3690a5",
   "metadata": {},
   "outputs": [
    {
     "name": "stdout",
     "output_type": "stream",
     "text": [
      "Before capitalization :\n",
      "    Hello   eveRyone. \n",
      "my name Is mirija and this is kenny\n",
      "how are you?personnaly  , i feeL goOd !\n",
      "=================\n",
      "After capitalization :\n",
      "Hello everyone.\n",
      "My name is mirija and this is kenny.\n",
      "How are you? Personnaly, I feel good!\n"
     ]
    }
   ],
   "source": [
    "\n",
    "text = \"\"\"    Hello   eveRyone. \n",
    "my name Is mirija and this is kenny\n",
    "how are you?personnaly  , i feeL goOd !\"\"\"\n",
    "\n",
    "print (f\"Before capitalization :\\n{text}\")\n",
    "text = capitalize_smartly(text)\n",
    "print (\"=================\")\n",
    "\n",
    "print (f\"After capitalization :\\n{text}\")"
   ]
  },
  {
   "cell_type": "markdown",
   "id": "2d335191",
   "metadata": {},
   "source": [
    "***\n",
    "***\n",
    "***\n"
   ]
  },
  {
   "cell_type": "markdown",
   "id": "94ab18b8",
   "metadata": {},
   "source": [
    "# Extras :\n",
    "\n",
    "### <center> <b> Using pre-trained `NLP` models to detect proper nouns</b>"
   ]
  },
  {
   "cell_type": "markdown",
   "id": "1728d62a",
   "metadata": {},
   "source": [
    "***\n",
    "***\n",
    "***"
   ]
  },
  {
   "cell_type": "markdown",
   "id": "88b0c2ff",
   "metadata": {},
   "source": [
    "### Dependencies : \n",
    "- `spacy` library\n",
    "- `en_core_web_sm` pretrained model for english language.\n",
    "- `xx_ent_wiki_sm` pretrained model for multiple languages (less accurate).\n",
    "\n",
    "#### <u> Note </u> : Other models are available on [`spacy-models` ](https://github.com/explosion/spacy-models)GitHub repository"
   ]
  },
  {
   "cell_type": "code",
   "execution_count": 23,
   "id": "e45d9955",
   "metadata": {},
   "outputs": [],
   "source": [
    "# Only run once\n",
    "\n",
    "!pip install spacy --break                  > /dev/null 2>&1\n",
    "!python -m spacy download en_core_web_sm    > /dev/null 2>&1\n",
    "!python -m spacy download xx_ent_wiki_sm    > /dev/null 2>&1\n"
   ]
  },
  {
   "cell_type": "markdown",
   "id": "81f832e6",
   "metadata": {},
   "source": [
    "### Detecting porper nouns and capitalize them"
   ]
  },
  {
   "cell_type": "code",
   "execution_count": 27,
   "id": "46637695",
   "metadata": {},
   "outputs": [
    {
     "name": "stdout",
     "output_type": "stream",
     "text": [
      "Before capitalization :\n",
      "    Hello   eveRyone. \n",
      "my name Is mirija and this is kenny\n",
      "how are you?personnaly  , i feeL goOd !\n",
      "=================\n",
      "After capitalization :\n",
      "Hello everyone.\n",
      "My name is Mirija and this is Kenny.\n",
      "How are you? Personnaly, I feel good!\n"
     ]
    }
   ],
   "source": [
    "import spacy\n",
    "\n",
    "# Loading the models\n",
    "nlp_en = spacy.load(\"en_core_web_sm\") \n",
    "nlp_xx = spacy.load(\"xx_ent_wiki_sm\") \n",
    "\n",
    "\n",
    "def is_proper_noun (word):\n",
    "\n",
    "    # label the word using the models \n",
    "    doc_en = nlp_en(word)\n",
    "    doc_xx = nlp_xx(word)\n",
    "\n",
    "    for token in doc_en:\n",
    "        if token.pos_==\"PROPN\":\n",
    "            return True\n",
    "        else :\n",
    "            return False\n",
    "\n",
    "    for token in doc_xx:\n",
    "        if token.pos_==\"PROPN\":\n",
    "            return True\n",
    "        else : \n",
    "            return False\n",
    "\n",
    "\n",
    "def capitalize_PN (text):\n",
    "    lines = text.split('\\n')\n",
    "    sentence = []\n",
    "    for index, line in enumerate(lines):\n",
    "        sentence.append(line)\n",
    "        words = sentence[index].split()\n",
    "        for i, w in enumerate(words):\n",
    "            if is_proper_noun(w):\n",
    "                words[i] = w.capitalize()\n",
    "        l=\" \".join(words)\n",
    "        sentence[index]=l\n",
    "    text = \"\\n\".join(sentence)\n",
    "\n",
    "    return text\n",
    "\n",
    "\n",
    "text = \"\"\"    Hello   eveRyone. \n",
    "my name Is mirija and this is kenny\n",
    "how are you?personnaly  , i feeL goOd !\"\"\"\n",
    "\n",
    "print (f\"Before capitalization :\\n{text}\")\n",
    "text = capitalize_PN(capitalize_smartly(text))\n",
    "print (\"=================\")\n",
    "\n",
    "print (f\"After capitalization :\\n{text}\")"
   ]
  },
  {
   "cell_type": "code",
   "execution_count": null,
   "id": "2c6415f7",
   "metadata": {},
   "outputs": [],
   "source": []
  }
 ],
 "metadata": {
  "kernelspec": {
   "display_name": "Python 3",
   "language": "python",
   "name": "python3"
  },
  "language_info": {
   "codemirror_mode": {
    "name": "ipython",
    "version": 3
   },
   "file_extension": ".py",
   "mimetype": "text/x-python",
   "name": "python",
   "nbconvert_exporter": "python",
   "pygments_lexer": "ipython3",
   "version": "3.13.7"
  }
 },
 "nbformat": 4,
 "nbformat_minor": 5
}
